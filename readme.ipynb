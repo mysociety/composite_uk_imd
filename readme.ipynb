{
 "metadata": {
  "language_info": {
   "codemirror_mode": {
    "name": "ipython",
    "version": 3
   },
   "file_extension": ".py",
   "mimetype": "text/x-python",
   "name": "python",
   "nbconvert_exporter": "python",
   "pygments_lexer": "ipython3",
   "version": "3.8.9"
  },
  "orig_nbformat": 2,
  "kernelspec": {
   "name": "python389jvsc74a57bd04cd7ab41f5fca4b9b44701077e38c5ffd31fe66a6cab21e0214b68d958d0e462",
   "display_name": "Python 3.8.9 64-bit"
  }
 },
 "nbformat": 4,
 "nbformat_minor": 2,
 "cells": [
  {
   "source": [
    "from notebook_helper import *"
   ],
   "cell_type": "code",
   "metadata": {},
   "execution_count": 3,
   "outputs": []
  },
  {
   "source": [
    "# Composite 2020 UK Index of Multiple Deprivation\n",
    "\n",
    "This repository uses methodology from a paper by [Gary A Abel, Matthew E Barclay, and Rupert A Payne](https://bmjopen.bmj.com/content/6/11/e012750) to create a composite measure of multiple deprivation across the UK. "
   ],
   "cell_type": "markdown",
   "metadata": {}
  },
  {
   "source": [
    "## Using this dataset\n",
    "\n",
    "There are two sets of files depending if you want a GB or UK index (methodological differences explained below). For each set (`uk_index` and `gb_index` folders), there is a different file for each nation. In each case, the measures of deprivation in the other nations has been integrated into the base scores for that nation. \n",
    "\n",
    "When in a dataset for a particular nation (for instance, `uk_index/UK_IMD_E.csv`), the rank order of the original deprivation index is preserved, but it is not for other countries (explained more below). \n",
    "\n",
    "The composite labels vary by national dataset, but the key columns in the UK England dataset are: \n",
    "\n",
    "- `lsoa` - The code for the LSOA/Datazone/SOA\n",
    "- `original_decile` - the original decile in the four different IMD datasets. \n",
    "- `overall_local_score` - the original deprivation score in the four different IMD datasets. \n",
    "- `UK_IMD_E_score` - the transformed deprivation score into the combined index. This will be the same as the original for the base country. \n",
    "- `E_expanded_decile` - the English deciles, with scores for other nations fitted into the same devisions as the original deciles. \n",
    "- `UK_IMD_E_pop_decile` - A new set of deciles for the whole dataset, so that 10% of the population is in each decile (there will be an uneven number of areas). \n",
    "- `UK_IMD_E_pop_quintile` - A new set of quintiles for the whole dataset, so that 20% of the population is in each quintile (there will be an uneven number of areas). \n",
    "\n",
    "### Example usage of different kinds of deciles\n",
    "\n",
    "Given the theoretical basis for national metrics is more sound than the composite index, you should chose the base that better reflects the majority of your data.\n",
    "\n",
    "If your analysis runs across the whole country, you would use `uk_index\\UK_IMD_E.csv` (as the majority of data is English), and use the `UK_IMD_E_pop_decile` column to break the country in ten deciles by population. If a variable is evenly spread amount different levels of deprivation across the whole country, aggregating by this decile type should return a similar value for all deciles. \n",
    "\n",
    "If you wanted to base the analysis in SIMD, but include a few compariable English examples on the other side of the border, you would use `uk_index\\UK_IMD_S.csv` and the `S_expanded_decile` column. This will reflect the ordering and deciles of the original SIMD dataset, but put areas in other nations into Scottish deciles. Overall, this set of deciles is uneven because extra areas are being squeezed into the divisions made on the basis of national data.\n",
    "\n",
    "In many cases, the two kinds of deciles are similar if based in English data (only 11% of areas have disagreements between the two kinds of deciles). If unsure, think about how you would explain what is happening in your analysis (e.g. if conceptually exploring `UK deprivation`, it is best to stick to the population deciles). \n",
    "\n",
    "### How would I map this data - what variable should I use?\n",
    "\n",
    "There is no single answer to this question. There are four files that cover the whole UK at the small area level (`UK_IMD_E.csv`, `UK_IMD_N.csv`, `UK_IMD_S.csv`, `UK_IMD_W.csv`), each of which is slightly different. If you are an England-based researcher, for example, and you want to map the whole UK in a comparable way so that you can meaningfully compare patterns of deprivation in East London with patterns of deprivation in the Scottish Highlands, then you would use the `UK_IMD_E.csv` file and make a map using the `UK_IMD_E_pop_decile` column in this dataset. This would create a map that puts every LSOA/SOA/DZ in the UK into one of ten deciles (1 = most deprived, 10 = least deprived) so that an equal number of people are in each decile (n.b. this means that there won't be an equal number of small areas in each decile because populations vary by LSOA/SOA/DZ). \n",
    "\n",
    "Our advice for anyone making a UK deprivation map would be to use the base UK_IMD file that makes most sense to them from an end user point of view. If you primarily work with SIMD data and want to see how the decile position of a data zone in Scotland might compare to an SOA in Northern Ireland or a LSOA in England and Wales, then the UK_IMD_S.csv would likely be most meaningful.\n",
    "\n",
    "[Alasdair Rae](https://twitter.com/undertheraedar) has created [a single shapefile](https://drive.google.com/drive/folders/1L-C-Ym7VTwRhIRDQUMHPxFvOznMrKfy3) that covers the different sets of small area that will be helpful in cross-border mapping. \n",
    "\n",
    "### Interpreting scores, ranks, deciles and quintiles\n",
    "\n",
    "For users new to indexes of deprivation it is not always clear which direction is \"worse\". This set of indexes follows the general convention that:\n",
    "\n",
    "* Higher scores show 'worse' deprivation. The most deprived area is the one with the highest score.\n",
    "* For ranks this flips around, Rank 1 is the most deprived area. \n",
    "* Deciles and Quintiles follow ranks. Decile 1 and Quintile 1 are the most deprived decile and quintile respectively. \n",
    "\n",
    "So if plotting a column graph of deprivation deciles from 1-10, the most deprived decile is on the far left. This may differ from the initiative sense that in a measure of deprivation higher numbers mean more deprivation, but this maintains consistency with how deciles are generated by the individual indexes. \n",
    "\n",
    "Explored in more detail below, but we do not recommend relying too much on raw score in this dataset as the theoretical basis for precise rankings is less robust. The exception to this is the `employment` score in the UK indexes, and the `employment` and `income` scores in the GB indexes, as these are based on similar underlying indicators. "
   ],
   "cell_type": "markdown",
   "metadata": {}
  },
  {
   "source": [
    "## What are the indexes of multiple deprivation?\n",
    "\n",
    "For each nation in the UK, the relevant statistics authority has created a ranking of multiple deprivation that ranks small census areas (LSOAs in England/Wales, DZs in Scotland and SOA in Northern Ireland). There is no equivalent ranking of areas across the entire UK. \n",
    "\n",
    "These indexes are independent and cannot be directly compared. These measures are not directly comparable because the underlying indicators and the method used to combine them are different in each case. Additionally data is collected at different times for each index. It is not directly possible to take a DataZone from Scotland and see where it would fit inside the deprivation measure in England. \n",
    "\n",
    "However, Abel and colleagues suggests you can fudge this a bit to create a combined index that gives useful results. This repository uses this approach to create an updated index with the national indexes avaliable in Feburary 2021. "
   ],
   "cell_type": "markdown",
   "metadata": {}
  },
  {
   "source": [
    "## Method\n",
    "\n",
    "The method described by the [Abel and colleagues paper](https://bmjopen.bmj.com/content/6/11/e012750) depends on the fact that the two domains of deprivation (Income and Employment) were roughly comparable between nations at the time they wrote the paper. Both domains used a single equivalent indicator, meaning the domain score expressed a real comparable value. \n",
    "\n",
    "Given the overall IMD score, the income score and the employment score, the residuals of a linear regression will leave a lump of 'other' deprivation data that goes beyond the general effect of income/employment. Using the equivalent regression model for a different nation, the income, employment and lump deprivation can be recombined to produce a score that can be compared between nations, or fit into a single index. This looks like the following in practice:\n",
    "\n",
    "```\n",
    "restandardized_residuals <- (source_residuals/stdev(source_residuals)) * stdev(target_residuals)\n",
    "overall_score <- target_income_coefficent*source_income_score + target_employment_coefficent*source_employment_score + restandardized_residuals\n",
    "```\n",
    "\n",
    "Unfortunately, Northern Ireland's 2017 Multiple Deprivation Measure deviates from the approach other nations use in their income domain, and so the NIMDM2017 Income measure is no longer directly comparable. \n",
    "For the 2020 data, only the employment score is used in the model. This represents a slight loss of information, but as Income and Employment scores are generally correlated this still explains most of the variance (see tables below). A seperate 'GB' ranking for England, Wales and Scotland uses both options. \n",
    "\n",
    "To account for the different sizes of small area units in different nations (Scottish DataZones contain less people than LSOAs), the deciles and quintiles provided are based on deciles and quintiles of the overall population rather the rank. This means that some deciles have more 'areas' than others, but if you sampled a random pool of the population, you should have even an even division. \n",
    "\n",
    "## How is this getting over the fundamental issue the indexes aren't comparable? \n",
    "\n",
    "This is a good question, and the answer is it does assume that actually the scores are roughtly compariable when you bundle them all up. As the [original paper](https://bmjopen.bmj.com/content/6/11/e012750) put it *\"[o]ur approach treated all standardised residuals as equivalent between the constituent nations, allowing us to create consistent UK-wide estimates of relative deprivation\"*. If you think this is reasonable, the rest works fine.\n",
    "\n",
    "### Why would it not be reasonable?\n",
    "\n",
    "As expressed in various ways in the accompaning material to the indexes, there are reasons not to treat indexes are comparable that this method does not avoid:\n",
    "\n",
    "* This lump of 'other' deprivation is not measuring the same thing in different indexes. Different indicators are combined in different ways in each nation to create the overall score.\n",
    "* Different nations have different problems the indexes that are deliberately tuned to address (through including specific forms of deprivation that other nations do not), or this arises implicitly from the different results of the principal component analysis (PCA) in different national datasets.\n",
    "* If one nation has a higher rate of one form of deprivation (for instance, if one generally has higher health deprivation), areas that would considered highly deprived in another context would be rescaled as less deprived. \n",
    "* In general, the lump is difficult to examine exactly why one area is rated as more deprived as another. While within each national index you can explore domains to understand why one area is ranked above another, this just is not possible to compare in the same way between the lumps. \n",
    "\n",
    "### Why is it probably OK anyway?\n",
    "\n",
    "Against this, there are a few reasons to think the scale of the problem is manageable:\n",
    "\n",
    "* While the employment score is generally only around a quarter of the total contribution to the overall IMD score, many other measures of deprivation are correlated with it, meaning that the features it measures (where there are comparable measures between nations) explain much more than a quarter of the variation (see models below).\n",
    "* The remainder 'non-employment' lump in all indexes is comparing *similar* if not identical indicators of income, health, education and crime.\n",
    "* Domain scores are combined using an exponential distribution. A high deprivation score on any domain contained within the lump is likely to be expressed in a high 'other' score. A clear signal of 'some form of high deprivation' should emerge from the 'other' data. This helps address some (but not all) of the issues from different scales of the data. \n",
    "\n",
    "\n",
    "## When would I want to use the composite index?\n",
    "\n",
    "For some uses the combined index is probably fine. It should not be used in a public ranking of places as it is unclear if a Scottish Datazone being ranked one level about a Welsh LSOA is theoretically valid or how to explain why it is happening. However, if breaking the result into deciles or mapping against other variables, this reintroduces sufficent fuzziness to that the results are likely to be reasonable. Given the concept of multiple deprivation is already a little fuzzy, in situations where the complete English index is used as a variable it is likely to be fine to use the expanded index.\n",
    "\n",
    "For instance, our use case is trying to avoid throwing away data generated by service users from non-English nations when analysing patterns of deprivation against specific usage. A fuzzy measure is fine for this.\n",
    "\n",
    "## Why not just build a proper UK index?\n",
    "\n",
    "There are some practical issues where the statistics are generated by different statistics authorities, but the broader issue is that designing an index requires designing towards the needs of a user-base.  National indexes of multiple deprivation have a set of use cases within local and national governments and the design of the indexes is geared towards that. A combined index has less usefulness locally because it is not tuned towards the specific conceptions of deprivation in each nation. It is annoying from a comparative perspective that the NIMDM2017 changed their measure of Income, but it also creates a better tool for needs in Northern Ireland.\n",
    "\n",
    "A combined index *is* useful for researchers or organisations running services across the UK, but all of these are likely to have slightly different needs of it. It is likely that getting much beyond this fuzzy measure, the answer is for organisations to construct measures that more precisely deal with the issue at hand. For instance, evaluating access to online services suggests measures of internet access, but this is currently not included in the English index, and is only a small component of others. \n",
    "\n",
    "Basically: the slightly dodgy composite ranking is probably fine for most purposes, and going beyond it suggests a bigger think about what needs to be measured. \n",
    "\n",
    "## What options are available\n",
    "\n",
    "For the UK (England, Scotland, Wales and Northern Ireland), there are versions of the overall ranking using each national model as a base. `uk_index\\UK_IMD_E.csv` contains all four nations rebased onto the English model. Generally you should use the base of the country where the majority of your data is from (see rank integrity below). Chances are this is England, but the other indexes are included for other use case.\n",
    "\n",
    "If only using data from England, Scotland or Wales, there is a separate GB index that uses both of the comparable Income and Employment domains to create rankings. "
   ],
   "cell_type": "markdown",
   "metadata": {}
  },
  {
   "source": [
    "## Data analysis\n",
    "\n",
    "### Regression models\n",
    "\n",
    "In all cases, the r² shows majority of the variation in the IMD score is explained using the employment score alone. GB models gain a little more usefulness through including the comparable Income score. \n",
    "\n",
    "#### UK models"
   ],
   "cell_type": "markdown",
   "metadata": {}
  },
  {
   "cell_type": "code",
   "execution_count": 36,
   "metadata": {},
   "outputs": [
    {
     "output_type": "stream",
     "name": "stdout",
     "text": [
      "| Nation           |   Intercept |   Employment score |   r² |   Residuals SD |\n|------------------|-------------|--------------------|------|----------------|\n| England          |        0.06 |               2.16 | 0.9  |           4.74 |\n| Scotland         |        0.11 |               2.26 | 0.94 |           3.9  |\n| Wales            |       -3.49 |               2.4  | 0.87 |           5.54 |\n| Northern Ireland |       -7.84 |               1.4  | 0.88 |           5.11 |\n"
     ]
    }
   ],
   "source": [
    "\n",
    "df = pd.read_csv(Path(\"analysis\") / \"uk_models.csv\")\n",
    "df = df.rename(columns={\"r2\":\"r²\", \"residuals SD\":\"Residuals SD\"})\n",
    "markdown_table(df)"
   ]
  },
  {
   "source": [
    "#### GB Models"
   ],
   "cell_type": "markdown",
   "metadata": {}
  },
  {
   "cell_type": "code",
   "execution_count": 37,
   "metadata": {},
   "outputs": [
    {
     "output_type": "stream",
     "name": "stdout",
     "text": [
      "| Nation   |   Intercept |   Income score |   Employment score |   r² |   Residuals SD |\n|----------|-------------|----------------|--------------------|------|----------------|\n| England  |        0.51 |           1.09 |               0.72 | 0.94 |           3.63 |\n| Scotland |        0.28 |           1.03 |               0.92 | 0.97 |           2.82 |\n| Wales    |       -3.73 |           1.24 |               0.53 | 0.94 |           3.87 |\n"
     ]
    }
   ],
   "source": [
    "df = pd.read_csv(Path(\"analysis\") / \"gb_models.csv\")\n",
    "df = df.rename(columns={\"r2\":\"r²\", \"residuals SD\":\"Residuals SD\"})\n",
    "markdown_table(df)"
   ]
  },
  {
   "source": [
    "### Rank intergrity is not preserved\n",
    "\n",
    "National subsets of the overall indexes are not identical to the original indexes. Adjusting the impact of the employment (and in the GB index, income) to match the target index and scaling the remaining residuals affects the order within nation scores as well as their placement in the overall scores. This affects almost all rankings to some degree in transposed indexes. The following tables show the differences in rank when a nation's dataset is ordered by the local IMD score and the overall IMD score of a composite index. \n",
    "\n",
    "This is why a dataset that is mostly Scottish data should use the Scotland based version, as the theoretical basis of the majority of the rankings is clearer."
   ],
   "cell_type": "markdown",
   "metadata": {}
  },
  {
   "source": [
    "#### UK rank displacement (England based)"
   ],
   "cell_type": "markdown",
   "metadata": {}
  },
  {
   "cell_type": "code",
   "execution_count": 38,
   "metadata": {},
   "outputs": [
    {
     "output_type": "stream",
     "name": "stdout",
     "text": [
      "|            |   Northern Ireland |   Scotland |   Wales |\n|------------|--------------------|------------|---------|\n| count      |             874    |    6953    | 1876    |\n| mean       |              26.06 |     117.22 |   13.12 |\n| std        |              26.38 |     113.24 |   11.46 |\n| min        |               1    |       1    |    0.5  |\n| 25%        |               7    |      31    |    4    |\n| 50%        |              18    |      81    |    9.5  |\n| 75%        |              37    |     170    |   19.5  |\n| max        |             237    |    1037    |   69.5  |\n| % of total |              98.2  |      99.7  |   98.3  |\n"
     ]
    }
   ],
   "source": [
    "df = pd.read_csv(Path(\"analysis\") / \"UK_imd_E_rank_displacement.csv\")\n",
    "df = df.rename(columns={df.columns[0]: \"\"})\n",
    "markdown_table(df)"
   ]
  },
  {
   "source": [
    "#### GB rank displacement (England based) \n"
   ],
   "cell_type": "markdown",
   "metadata": {}
  },
  {
   "cell_type": "code",
   "execution_count": 39,
   "metadata": {},
   "outputs": [
    {
     "output_type": "stream",
     "name": "stdout",
     "text": [
      "|            |   Scotland |   Wales |\n|------------|------------|---------|\n| count      |    6953    | 1876    |\n| mean       |     117.22 |   13.12 |\n| std        |     113.24 |   11.46 |\n| min        |       1    |    0.5  |\n| 25%        |      31    |    4    |\n| 50%        |      81    |    9.5  |\n| 75%        |     170    |   19.5  |\n| max        |    1037    |   69.5  |\n| % of total |      99.7  |   98.3  |\n"
     ]
    }
   ],
   "source": [
    "df = pd.read_csv(Path(\"analysis\") / \"GB_imd_E_rank_displacement.csv\")\n",
    "df = df.rename(columns={df.columns[0]: \"\"})\n",
    "markdown_table(df)"
   ]
  },
  {
   "cell_type": "code",
   "execution_count": null,
   "metadata": {},
   "outputs": [],
   "source": []
  },
  {
   "source": [
    "### Deprivation distribution\n",
    "\n",
    "The following table and graph show the distribution of the population by nation and UK IMD decile (England model):"
   ],
   "cell_type": "markdown",
   "metadata": {}
  },
  {
   "cell_type": "code",
   "execution_count": 50,
   "metadata": {},
   "outputs": [
    {
     "output_type": "stream",
     "name": "stdout",
     "text": [
      "|   IMD Decile distribution | E   | N   | S   | W   |\n|---------------------------|-----|-----|-----|-----|\n|                         1 | 10% | 11% | 10% | 12% |\n|                         2 | 10% | 16% | 8%  | 12% |\n|                         3 | 10% | 24% | 8%  | 12% |\n|                         4 | 10% | 23% | 8%  | 13% |\n|                         5 | 10% | 19% | 9%  | 13% |\n|                         6 | 10% | 8%  | 11% | 12% |\n|                         7 | 10% | 0%  | 11% | 10% |\n|                         8 | 10% | 0%  | 11% | 8%  |\n|                         9 | 10% | 0%  | 11% | 7%  |\n|                        10 | 10% | 0%  | 14% | 1%  |\n"
     ]
    }
   ],
   "source": [
    "df = pd.read_csv(Path(\"analysis\") / \"UK_imd_E_breakdown.csv\")\n",
    "markdown_table(df, format = \"{:,.0%}\")"
   ]
  },
  {
   "cell_type": "code",
   "execution_count": 41,
   "metadata": {},
   "outputs": [
    {
     "output_type": "execute_result",
     "data": {
      "image/png": "[encoded data removed]",
      "text/plain": [
       "alt.VConcatChart(...)"
      ]
     },
     "metadata": {},
     "execution_count": 41
    }
   ],
   "source": [
    "from altair.expr import datum\n",
    "\n",
    "df = pd.read_csv(Path(\"analysis\") / \"UK_imd_E_breakdown.csv\")\n",
    "melt = df.melt(\"IMD Decile distribution\", var_name=\"distribution\")\n",
    "\n",
    "melt[\"distribution\"] = melt.distribution.map({\"E\":\"England\", \"S\":\"Scotland\",\"W\":\"Wales\",\"N\":\"Northern Ireland\"})\n",
    "\n",
    "melt[\"value\"] *= 100\n",
    "\n",
    "colors = altair_theme.mysoc_palette_colors\n",
    "\n",
    "base = alt.Chart(melt).mark_bar(size=20).encode(\n",
    "    x=alt.X(\"IMD Decile distribution\",title=\"Composite IMD distribution\", scale=alt.Scale(bins=list(range(1,11)))),\n",
    "    y=alt.Y('value', title=\"%\", scale=alt.Scale(domain=(0,25)))).properties(width=300, height=150) \n",
    "\n",
    "chart = alt.vconcat()\n",
    "row = alt.hconcat()\n",
    "for n in [\"England\", \"Scotland\"]:\n",
    "    row |= base.transform_filter(datum.distribution == n).properties(title=n)\n",
    "chart &= row\n",
    "row = alt.hconcat()\n",
    "for n in [\"Wales\", \"Northern Ireland\"]:\n",
    "    row |= base.transform_filter(datum.distribution == n).properties(title=n)\n",
    "chart &= row\n",
    "\n",
    "chart"
   ]
  },
  {
   "source": [
    "# National composition of each decile\n",
    "\n"
   ],
   "cell_type": "markdown",
   "metadata": {}
  },
  {
   "cell_type": "code",
   "execution_count": 64,
   "metadata": {},
   "outputs": [
    {
     "output_type": "stream",
     "name": "stdout",
     "text": [
      "| nation           | 1   | 2   | 3   | 4   | 5   | 6   | 7   | 8   | 9   | 10   |\n|------------------|-----|-----|-----|-----|-----|-----|-----|-----|-----|------|\n| England          | 83% | 83% | 82% | 81% | 81% | 83% | 86% | 87% | 88% | 88%  |\n| Northern Ireland | 3%  | 4%  | 7%  | 6%  | 5%  | 2%  | 0%  | 0%  | 0%  | 0%   |\n| Scotland         | 8%  | 7%  | 6%  | 6%  | 7%  | 9%  | 9%  | 9%  | 9%  | 12%  |\n| Wales            | 6%  | 6%  | 6%  | 6%  | 6%  | 6%  | 5%  | 4%  | 3%  | 0%   |\n"
     ]
    },
    {
     "output_type": "execute_result",
     "data": {
      "image/png": "[encoded data removed]",
      "text/plain": [
       "alt.Chart(...)"
      ]
     },
     "metadata": {},
     "execution_count": 64
    }
   ],
   "source": [
    "\n",
    "#create a pivot going the other way\n",
    "df = pd.read_csv(Path(\"uk_index\",\"UK_IMD_E.csv\"))\n",
    "df[\"nation\"] = df[\"nation\"].map({\"E\":\"England\", \"S\":\"Scotland\",\"W\":\"Wales\",\"N\":\"Northern Ireland\"})\n",
    "pop = pd.read_csv(Path(\"analysis\", \"population\",\n",
    "                           \"2019_population.csv\"), thousands=',')\n",
    "df = pd.merge(df, pop, on=\"lsoa\")\n",
    "pt = df.pivot_table(\"pop\", columns=\"UK_IMD_E_pop_decile\", index=\"nation\", aggfunc='sum').fillna(0)\n",
    "for n in pt.columns.values:\n",
    "    pt[n] = pt[n]/pt[n].sum()\n",
    "\n",
    "pt = pt.reset_index()\n",
    "markdown_table(pt.copy(), index=True, format = \"{:,.0%}\")\n",
    "bins = [int(x) for x in range(1,11)]\n",
    "#make graph\n",
    "pt = pt.melt(id_vars=\"nation\")\n",
    "pt[\"value\"] *= 100\n",
    "pt[\"UK_IMD_E_pop_decile\"] = pt[\"UK_IMD_E_pop_decile\"].astype(int)\n",
    "chart = alt.Chart(pt)\n",
    "chart = chart.mark_bar(size=50)\n",
    "chart = chart.encode(x=alt.X(\"UK_IMD_E_pop_decile\",\n",
    "                             title=\"Composite IMD decile\",\n",
    "                             axis = alt.Axis(format=\"0\"),\n",
    "                             scale=alt.Scale(bins=bins)),\n",
    "                     y=alt.Y(\"sum(value)\",title=\"%\", scale=alt.Scale(domain=(0,100))),\n",
    "                     color=\"nation\",\n",
    "                     order=alt.Order('nation', sort='ascending'))\n",
    "chart = chart.properties(title=alt.TitleParams(\"National proportion of each decile\"), height=150)\n",
    "chart\n"
   ]
  },
  {
   "source": [
    "As in the original paper, England and Scotland have a similar distribution, Wales is on average slightly more deprived, and Northern Ireland is mostly contained in the bottom half of the overall deprivation scale. For comparsion to the previous model, 37% of NI population were in the bottom overall quintile compared to 27% in this model. \n",
    "\n",
    "The GB distribution (generated using Income and Employment) is similar to the UK distributions:"
   ],
   "cell_type": "markdown",
   "metadata": {}
  },
  {
   "cell_type": "code",
   "execution_count": 9,
   "metadata": {},
   "outputs": [
    {
     "output_type": "stream",
     "name": "stdout",
     "text": [
      "|   IMD Decile distribution | E   | S   | W   |\n|---------------------------|-----|-----|-----|\n|                         1 | 10% | 10% | 12% |\n|                         2 | 10% | 9%  | 12% |\n|                         3 | 10% | 8%  | 12% |\n|                         4 | 10% | 8%  | 13% |\n|                         5 | 10% | 9%  | 13% |\n|                         6 | 10% | 11% | 12% |\n|                         7 | 10% | 11% | 10% |\n|                         8 | 10% | 10% | 8%  |\n|                         9 | 10% | 11% | 7%  |\n|                        10 | 10% | 14% | 1%  |\n"
     ]
    }
   ],
   "source": [
    "df = pd.read_csv(Path(\"analysis\") / \"GB_imd_E_breakdown.csv\")\n",
    "markdown_table(df, format = \"{:,.0%}\")"
   ]
  },
  {
   "source": [
    "The concentration of NI SOA in the lower deciles in the UK model means less of other nations appear in this decile. When comparing datasets without NI data, using the GB index will present a cleaner picture between deciles. Although if part of the overall picture is *\"we don't have data/have good takeup of services in a part of the UK that is on average more deprived\"*, the UK index may still be appropriate. \n"
   ],
   "cell_type": "markdown",
   "metadata": {}
  },
  {
   "source": [],
   "cell_type": "markdown",
   "metadata": {}
  },
  {
   "source": [
    "### Comparison of different national base population deciles\n",
    "\n",
    "The different processes for different national base files change rankings to the extent that decile divisions are noticeably different between the different files. The table below shows that while there is a high (93%) agreement between the England and Wales deciles, the Wales and Northern Ireland dataset only agree in 76% of cases. This reinforces the need for choosing a base dataset that best reflects the largest set of your data, where the rankings are most theoretically valid. "
   ],
   "cell_type": "markdown",
   "metadata": {}
  },
  {
   "source": [
    "import numpy as np\n",
    "\n",
    "nations = \"EWSN\"\n",
    "\n",
    "columns = []\n",
    "\n",
    "df = pd.read_csv(Path(\"uk_index\") / \"UK_IMD_{0}.csv\".format(nations[0]))\n",
    "\n",
    "for n in nations[1:]:\n",
    "    ndf = pd.read_csv(Path(\"uk_index\") / \"UK_IMD_{0}.csv\".format(n))\n",
    "    df = df.merge(ndf, on=\"lsoa\")\n",
    "\n",
    "df = df[[\"UK_IMD_{0}_pop_decile\".format(x) for x in nations] + [\"lsoa\"]]\n",
    "df = df.rename(columns = {\"UK_IMD_{0}_pop_decile\".format(x):x for x in nations})\n",
    "df = df.sort_values(\"lsoa\")\n",
    "df.head()\n",
    "\n",
    "data = []\n",
    "for n1 in nations:\n",
    "    row = [n1]\n",
    "    for n2 in nations:\n",
    "        overlap = np.sum(df[n1] == df[n2]) / len(df)\n",
    "        overlap = round(overlap * 100 , 1)\n",
    "        overlap = \"{0}%\".format(overlap)\n",
    "        if n1 == n2:\n",
    "            row.append(\"-\")\n",
    "        else:\n",
    "            row.append(overlap)\n",
    "\n",
    "    data.append(row)\n",
    "data_df = pd.DataFrame(data, columns=[\"Nation\"] + list(nations))\n",
    "markdown_table(data_df)\n"
   ],
   "cell_type": "code",
   "metadata": {},
   "execution_count": 28,
   "outputs": [
    {
     "output_type": "stream",
     "name": "stdout",
     "text": [
      "| Nation   | E     | W     | S     | N     |\n|----------|-------|-------|-------|-------|\n| E        | -     | 92.6% | 83.7% | 80.9% |\n| W        | 92.6% | -     | 77.8% | 76.0% |\n| S        | 83.7% | 77.8% | -     | 95.1% |\n| N        | 80.9% | 76.0% | 95.1% | -     |\n"
     ]
    }
   ]
  },
  {
   "source": [
    "## Data sources\n",
    "\n",
    "* [English Index of Multiple Deprivation 2019](https://www.gov.uk/government/statistics/english-indices-of-deprivation-2019)\n",
    "* [Scottish Index of Multiple Deprivation 2020](https://www.gov.scot/collections/scottish-index-of-multiple-deprivation-2020/)\n",
    "* [Welsh Index of Multiple Deprivation (WIMD) 2019](https://gov.wales/welsh-index-multiple-deprivation-full-index-update-ranks-2019)\n",
    "* [Northern Ireland Multiple Deprivation Measures (NIMDM) 2017](https://www.nisra.gov.uk/statistics/deprivation/northern-ireland-multiple-deprivation-measure-2017-nimdm2017)\n",
    "* [ONS 2019 population estimates](https://www.ons.gov.uk/peoplepopulationandcommunity/populationandmigration/populationestimates/datasets/lowersuperoutputareamidyearpopulationestimates)\n",
    "* [National Records Scotland 2019 Population Estimates](https://www.nrscotland.gov.uk/statistics-and-data/statistics/statistics-by-theme/population/population-estimates)\n",
    "* [NISRA 2019 2019 population estimates](https://www.nisra.gov.uk/publications/2019-mid-year-population-estimates-northern-ireland)\n",
    "\n",
    "\n",
    "For WIMD the domain scores in the domains file for Income and Employment are scaled, and you need to use the original single indicator from the stats wales site instead. \n",
    "\n",
    "The SIMD and NIMDM datasets do not contain the raw score for the combined index. This was regenerated from the domain indexes (`create_missing_overall_scores.py`) using the following procedure:\n",
    "\n",
    "```\n",
    "scaled_rank <- reversed_series/len(series) # scale to [0,1 - 1 is most deprived]\n",
    "transformed_score <- -23*ln(1 - scaled_rank*(1 - exp(-100/23)))\n",
    "```\n",
    "\n",
    "This is then weighted by the correct weight to combine into the complete domain score. Comparing the ranks of this score against the published rank generally agrees, with a number of 1-2 rank differences where there is likely an undocumented rounding step in the original composite process.\n",
    "\n",
    "## National domain weights\n",
    "\n",
    "| Domain weights                                     | NI | E    | S  | W  |\n",
    "|----------------------------------------------------|----|------|----|----|\n",
    "| Income                                             | 25 | 22.5 | 28 | 22 |\n",
    "| Employment                                         | 25 | 22.5 | 28 | 22 |\n",
    "| Health deprivation                                 | 15 | 13.5 | 14 | 15 |\n",
    "| Education, skills and training                     | 15 | 13.5 | 14 | 14 |\n",
    "| Crime and disorder / Community Safety              | 5  | 9.3  | 5  | 5  |\n",
    "| Barriers to housing and services                   | -  | 9.3  | -  |    |\n",
    "| Access to services / Geographic access to services | 10 | -    | 9  | 10 |\n",
    "| Living Environment                                 | 5  | 9.3  | -  | -  |\n",
    "| Physical Environment                               | -  | -    | -  | 5  |\n",
    "| Housing                                            | -  | -    | 2  | 7  |\n",
    "\n",
    "## Differences between different domains\n",
    "\n",
    "All four indexes have measures for Income, Employment, Health, Education, and Crime. Income and Employment use roughly equivalent measures in most cases, and the score for these domains represents a real percentile rather than a composite score. Northern Ireland changed its measure in 2017 to make it a proportion of housholds below 60% of NI median rather than a % of households recieving some form of income-assistance benefit like the other nations and so is no longer directly comparable.\n",
    "\n",
    "All indexes incorporate some measure of difficulty accessing services, generally the physical distance from an area to GPs, shops, etc.  This is a domain level score in all but England, where it is one sub-domain in the 'Barriers to housing and services' domain. Wales, Scotland and Northern Ireland incorporate measures of broadband speed into their access to services score. England does not. \n",
    "\n",
    "The quality of the physical environment is only a domain level measure in Wales. It is one of two sub-domains of Living Enviornment in England and one of three sub-domains of Living Environment in Northern Ireland. Scotland does not include an equivalent domain or sub-domain. \n",
    "\n",
    "Aspects of housing appear in different domains in different nations. The 'housing' domain in Scotland and Wales includes housing quality and overcrowding. The equivalent overcrowding measure is includes in one of two sub-domains of Living Enviornment in England and one of three sub-domains of Living Environment in Northern Ireland. England uniquely includes a measure of affordability as part of the access to housing subdomain.\n",
    "\n",
    "\n",
    "### Benefits used to generate Income and Employment domains\n",
    "\n",
    "#### Income\n",
    "\n",
    "| Benefit                                                    | England | Scotland | Wales |\n",
    "|------------------------------------------------------------|---------|----------|-------|\n",
    "| Jobseeker’s Allowance                                      | yes     | yes      | yes   |\n",
    "| Employment and Support Allowance                           | yes     | yes      | yes   |\n",
    "| Pension Credit                                             | yes     | yes      | yes   |\n",
    "| Universal Credit (excluding 'Working - no   requirements') | yes     | yes      | yes   |\n",
    "| Working Tax Credit                                         | yes     | yes      | yes   |\n",
    "| Child Tax Credit                                           | yes     | yes      | yes   |\n",
    "| Supported Asylum seekers                                   | yes     |          | yes   |\n",
    "| Income Support                                             | yes     | yes      | yes   |\n",
    "\n",
    "\n",
    "#### Employment\n",
    "\n",
    "| Benefit                                                            | England | Scotland | Wales | Northern Ireland |\n",
    "|--------------------------------------------------------------------|---------|----------|-------|------------------|\n",
    "| Jobseeker’s Allowance (contrib + income)                           | yes     | yes      | yes   | yes              |\n",
    "| Employment and Support Allowance (contrib   + income)              | yes     | yes      | yes   | yes              |\n",
    "| Incapacity Benefit                                                 | yes     | yes      | yes   | yes              |\n",
    "| Carer’s Allowance                                                  | yes     |          |       | yes              |\n",
    "| Severe Disablement Allowance                                       |         | yes      |       | yes              |\n",
    "| Universal Credit - 'Searching for   work',  'No work requirements' | yes     | yes      | yes   |                  |\n",
    "\n",
    "\n",
    "## Generating index\n",
    "\n",
    "To recreate the indexes requires python (3.8+) and pipenv:\n",
    "\n",
    "```\n",
    "pipenv install\n",
    "pipenv run python create_missing_overall_scores.py\n",
    "pipenv run python merge_indexes.py\n",
    "```\n",
    "\n",
    "Alternatively, the `requirements.txt` can be used without pipenv.\n",
    "\n",
    "### Maintenance\n",
    "\n",
    "The column names and sources files used can be adjusted in `country_indexes\\join_description.yaml`.\n",
    "\n",
    "If you've added or changed the packages used, run the following to update the requirements.txt from pipenv:\n",
    "\n",
    "```\n",
    "pipenv run pipenv_to_requirements\n",
    "```\n",
    "\n",
    "The readme file should not be edited directly, instead edit the jupyter notebook and rerun the final cell to update.\n",
    "\n"
   ],
   "cell_type": "markdown",
   "metadata": {}
  },
  {
   "source": [
    "## Licencing\n",
    "\n",
    "Source indexes for each country are licenced as Open Government License (OGL) version 3.0.\n",
    "\n",
    "Unless otherwise stated, composite datasets are licensed under a [Creative Commons Attribution 4.0 International License](https://creativecommons.org/licenses/by/4.0/).\n",
    "\n",
    "Code and scripts are licenced under a MIT Licence.\n",
    "\n",
    "## Citation\n",
    "\n",
    "Future versions may use same URL, but past versions will be included in git history. \n",
    "\n",
    "Suggested citation if using the dataset, but worth also referencing the original methodology paper:\n",
    "\n",
    "```\n",
    "Parsons, Alex (2021), UK 2020 Composite Index of Multiple Deprivation, https://github.com/mysociety/composite_uk_imd\n",
    "```"
   ],
   "cell_type": "markdown",
   "metadata": {}
  },
  {
   "cell_type": "code",
   "execution_count": 30,
   "metadata": {
    "tags": []
   },
   "outputs": [
    {
     "output_type": "stream",
     "name": "stdout",
     "text": [
      "writing: _notebook_resources/readme_16_0.png\n",
      "writing: _notebook_resources/readme_18_1.png\n",
      "Written to readme.md at 2021-04-26 17:14:24.841153\n",
      "writing: _notebook_resources/readme_16_0.png\n",
      "writing: _notebook_resources/readme_18_1.png\n",
      "Written to readme.html at 2021-04-26 17:14:33.141793\n"
     ]
    }
   ],
   "source": [
    "# make sure you save before running this\n",
    "from notebook_helper import *\n",
    "render_to_markdown()\n",
    "render_to_html()\n"
   ]
  },
  {
   "cell_type": "code",
   "execution_count": null,
   "metadata": {},
   "outputs": [],
   "source": []
  }
 ]
}